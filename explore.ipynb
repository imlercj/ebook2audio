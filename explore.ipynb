{
 "cells": [
  {
   "cell_type": "markdown",
   "metadata": {},
   "source": [
    "Inspiration 🥷\n",
    "https://github.com/ZA3karia/PDF2TEXT/blob/master/ebook_to_text.ipynb"
   ]
  },
  {
   "cell_type": "code",
   "execution_count": 1,
   "metadata": {},
   "outputs": [
    {
     "name": "stdout",
     "output_type": "stream",
     "text": [
      "Requirement already satisfied: ebooklib in /opt/homebrew/Caskroom/miniforge/base/envs/nlp/lib/python3.9/site-packages (0.18)\n",
      "Requirement already satisfied: six in /opt/homebrew/Caskroom/miniforge/base/envs/nlp/lib/python3.9/site-packages (from ebooklib) (1.16.0)\n",
      "Requirement already satisfied: lxml in /opt/homebrew/Caskroom/miniforge/base/envs/nlp/lib/python3.9/site-packages (from ebooklib) (4.9.2)\n",
      "Requirement already satisfied: BeautifulSoup4 in /opt/homebrew/Caskroom/miniforge/base/envs/nlp/lib/python3.9/site-packages (4.11.1)\n",
      "Requirement already satisfied: soupsieve>1.2 in /opt/homebrew/Caskroom/miniforge/base/envs/nlp/lib/python3.9/site-packages (from BeautifulSoup4) (2.3.2.post1)\n"
     ]
    }
   ],
   "source": [
    "!pip install ebooklib\n",
    "!pip install BeautifulSoup4\n",
    "!pip install openai"
   ]
  },
  {
   "cell_type": "code",
   "execution_count": 2,
   "metadata": {},
   "outputs": [],
   "source": [
    "# conda env nlp\n",
    "import ebooklib\n",
    "from ebooklib import epub\n",
    "from bs4 import BeautifulSoup"
   ]
  },
  {
   "cell_type": "code",
   "execution_count": 3,
   "metadata": {},
   "outputs": [],
   "source": [
    "def epub2thtml(epub_path):\n",
    "    book = epub.read_epub(epub_path)\n",
    "    chapters = []\n",
    "    for item in book.get_items():\n",
    "        if item.get_type() == ebooklib.ITEM_DOCUMENT:\n",
    "            chapters.append(item.get_content())\n",
    "    return chapters"
   ]
  },
  {
   "cell_type": "code",
   "execution_count": 4,
   "metadata": {},
   "outputs": [],
   "source": [
    "blacklist = [\n",
    "\t'[document]',\n",
    "\t'noscript',\n",
    "\t'header',\n",
    "\t'html',\n",
    "\t'meta',\n",
    "\t'head', \n",
    "\t'input',\n",
    "\t'script',\n",
    "\t# there may be more elements you don't want, such as \"style\", etc.\n",
    "]\n",
    "def chap2text(chap):\n",
    "    output = ''\n",
    "    soup = BeautifulSoup(chap, 'html.parser')\n",
    "    text = soup.find_all(text=True)\n",
    "    for t in text:\n",
    "        if t.parent.name not in blacklist:\n",
    "            output += '{} '.format(t)\n",
    "    return output\n"
   ]
  },
  {
   "cell_type": "code",
   "execution_count": 5,
   "metadata": {},
   "outputs": [],
   "source": [
    "def thtml2ttext(thtml):\n",
    "    Output = []\n",
    "    for html in thtml:\n",
    "        text =  chap2text(html)\n",
    "        Output.append(text)\n",
    "    return Output"
   ]
  },
  {
   "cell_type": "code",
   "execution_count": 6,
   "metadata": {},
   "outputs": [],
   "source": [
    "def epub2text(epub_path):\n",
    "    chapters = epub2thtml(epub_path)\n",
    "    ttext = thtml2ttext(chapters)\n",
    "    return ttext"
   ]
  },
  {
   "cell_type": "code",
   "execution_count": 7,
   "metadata": {},
   "outputs": [
    {
     "name": "stderr",
     "output_type": "stream",
     "text": [
      "/opt/homebrew/Caskroom/miniforge/base/envs/nlp/lib/python3.9/site-packages/ebooklib/epub.py:1395: UserWarning: In the future version we will turn default option ignore_ncx to True.\n",
      "  warnings.warn('In the future version we will turn default option ignore_ncx to True.')\n"
     ]
    }
   ],
   "source": [
    "out = epub2text('books/About Looking (Vintage International) - John Berger.epub')"
   ]
  },
  {
   "cell_type": "code",
   "execution_count": 8,
   "metadata": {},
   "outputs": [
    {
     "name": "stdout",
     "output_type": "stream",
     "text": [
      "10 40413 WHY LOOK AT ANIMALS? cost 0.61$\n",
      "12 12291 THE SUIT AND THE PHO cost 0.18$\n",
      "13 6897 PHOTOGRAPHS OF AGONY cost 0.10$\n",
      "14 9886 PAUL STRAND    Ther cost 0.15$\n",
      "15 20453 USES OF PHOTOGRAPHY  cost 0.31$\n",
      "17 9202 THE PRIMITIVE AND TH cost 0.14$\n",
      "18 16747 MILLET AND THE PEASA cost 0.25$\n",
      "19 13455 SEKER AHMET AND THE  cost 0.20$\n",
      "20 14747 LOWRY AND THE INDUST cost 0.22$\n",
      "21 11447 RALPH FASANELLA AND  cost 0.17$\n",
      "22 13039 LA TOUR AND HUMANISM cost 0.20$\n",
      "23 12343 FRANCIS BACON AND WA cost 0.19$\n",
      "24 12042 AN ARTICLE OF FAITH  cost 0.18$\n",
      "25 13031 BETWEEN TWO COLMARS  cost 0.20$\n",
      "26 15040 COURBET AND THE JURA cost 0.23$\n",
      "27 12705 TURNER AND THE BARBE cost 0.19$\n",
      "28 10279 ROUAULT AND THE SUBU cost 0.15$\n",
      "29 11689 MAGRITTE AND THE IMP cost 0.18$\n",
      "30 15248 HALS AND BANKRUPTCY  cost 0.23$\n",
      "31 8692 GIACOMETTI    The w cost 0.13$\n",
      "32 14292 RODIN AND SEXUAL DOM cost 0.21$\n",
      "33 10014 ROMAINE LORQUET     cost 0.15$\n",
      "34 9866 FIELD    “Life is n cost 0.15$\n",
      "total cost: 4.71$\n"
     ]
    }
   ],
   "source": [
    "total_cost = 0\n",
    "for i,c in enumerate(out):\n",
    "    # Only transcribe chapters with more than 5000 characters\n",
    "    if len(c) > 5000:\n",
    "        # price is 0.015$ per 1000 characters\n",
    "        print(i, len(c), c[:20].replace('\\n', ''), f'cost {len(c)/1000*0.015:.2f}$')\n",
    "        total_cost += len(c)/1000*0.015\n",
    "print(f'total cost: {total_cost:.2f}$')"
   ]
  },
  {
   "cell_type": "code",
   "execution_count": 10,
   "metadata": {},
   "outputs": [
    {
     "name": "stdout",
     "output_type": "stream",
     "text": [
      "10 WHY LOOK AT ANIMALS?\n",
      "12 THE SUIT AND THE PHO\n",
      "13 PHOTOGRAPHS OF AGONY\n",
      "14 PAUL STRAND    Ther\n",
      "15 USES OF PHOTOGRAPHY \n",
      "17 THE PRIMITIVE AND TH\n",
      "18 MILLET AND THE PEASA\n",
      "19 SEKER AHMET AND THE \n",
      "20 LOWRY AND THE INDUST\n",
      "21 RALPH FASANELLA AND \n",
      "22 LA TOUR AND HUMANISM\n",
      "23 FRANCIS BACON AND WA\n",
      "24 AN ARTICLE OF FAITH \n",
      "25 BETWEEN TWO COLMARS \n",
      "26 COURBET AND THE JURA\n",
      "27 TURNER AND THE BARBE\n",
      "28 ROUAULT AND THE SUBU\n",
      "29 MAGRITTE AND THE IMP\n",
      "30 HALS AND BANKRUPTCY \n",
      "31 GIACOMETTI    The w\n",
      "32 RODIN AND SEXUAL DOM\n",
      "33 ROMAINE LORQUET    \n",
      "34 FIELD    “Life is n\n"
     ]
    }
   ],
   "source": [
    "from openai import OpenAI\n",
    "\n",
    "import os\n",
    "os.environ[\"OPENAI_API_KEY\"] = \"<your key>\"\n",
    "client = OpenAI()\n",
    "\n",
    "index = 0\n",
    "for i,c in enumerate(out):\n",
    "    # Only transcribe chapters with more than 5000 characters\n",
    "    if len(c) > 5000:\n",
    "      print(i, c[:20].replace('\\n', ''))\n",
    "      chunk = ''\n",
    "      chunks = []\n",
    "      for t in c.split('\\n'):\n",
    "          if len(chunk) + len(t) < 4000:\n",
    "              chunk += t + '\\n'\n",
    "          else:\n",
    "              chunks.append(chunk)\n",
    "              chunk = t + '\\n'\n",
    "      for i,payload in enumerate(chunks):\n",
    "          response = client.audio.speech.create(\n",
    "              model=\"tts-1\",\n",
    "              voice=\"onyx\",\n",
    "              input=payload,\n",
    "            )  \n",
    "          response.stream_to_file(f'{index:03} {c[:20]}_{i}.mp3')\n",
    "          index += 1"
   ]
  }
 ],
 "metadata": {
  "kernelspec": {
   "display_name": "nlp",
   "language": "python",
   "name": "python3"
  },
  "language_info": {
   "codemirror_mode": {
    "name": "ipython",
    "version": 3
   },
   "file_extension": ".py",
   "mimetype": "text/x-python",
   "name": "python",
   "nbconvert_exporter": "python",
   "pygments_lexer": "ipython3",
   "version": "3.9.15"
  }
 },
 "nbformat": 4,
 "nbformat_minor": 2
}
