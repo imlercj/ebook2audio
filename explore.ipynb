{
 "cells": [
  {
   "cell_type": "markdown",
   "metadata": {},
   "source": [
    "Inspiration 🥷\n",
    "https://github.com/ZA3karia/PDF2TEXT/blob/master/ebook_to_text.ipynb"
   ]
  },
  {
   "cell_type": "code",
   "execution_count": 1,
   "metadata": {},
   "outputs": [
    {
     "name": "stdout",
     "output_type": "stream",
     "text": [
      "Requirement already satisfied: ebooklib in /opt/homebrew/Caskroom/miniforge/base/envs/nlp/lib/python3.9/site-packages (0.18)\n",
      "Requirement already satisfied: six in /opt/homebrew/Caskroom/miniforge/base/envs/nlp/lib/python3.9/site-packages (from ebooklib) (1.16.0)\n",
      "Requirement already satisfied: lxml in /opt/homebrew/Caskroom/miniforge/base/envs/nlp/lib/python3.9/site-packages (from ebooklib) (4.9.2)\n",
      "Requirement already satisfied: BeautifulSoup4 in /opt/homebrew/Caskroom/miniforge/base/envs/nlp/lib/python3.9/site-packages (4.11.1)\n",
      "Requirement already satisfied: soupsieve>1.2 in /opt/homebrew/Caskroom/miniforge/base/envs/nlp/lib/python3.9/site-packages (from BeautifulSoup4) (2.3.2.post1)\n"
     ]
    }
   ],
   "source": [
    "!pip install ebooklib\n",
    "!pip install BeautifulSoup4\n",
    "!pip install openai"
   ]
  },
  {
   "cell_type": "code",
   "execution_count": 2,
   "metadata": {},
   "outputs": [],
   "source": [
    "# conda env nlp\n",
    "import ebooklib\n",
    "from ebooklib import epub\n",
    "from bs4 import BeautifulSoup"
   ]
  },
  {
   "cell_type": "code",
   "execution_count": 3,
   "metadata": {},
   "outputs": [],
   "source": [
    "def epub2thtml(epub_path):\n",
    "    book = epub.read_epub(epub_path)\n",
    "    chapters = []\n",
    "    for item in book.get_items():\n",
    "        if item.get_type() == ebooklib.ITEM_DOCUMENT:\n",
    "            chapters.append(item.get_content())\n",
    "    return chapters"
   ]
  },
  {
   "cell_type": "code",
   "execution_count": 4,
   "metadata": {},
   "outputs": [],
   "source": [
    "blacklist = [\n",
    "\t'[document]',\n",
    "\t'noscript',\n",
    "\t'header',\n",
    "\t'html',\n",
    "\t'meta',\n",
    "\t'head', \n",
    "\t'input',\n",
    "\t'script',\n",
    "\t# there may be more elements you don't want, such as \"style\", etc.\n",
    "]\n",
    "def chap2text(chap):\n",
    "    output = ''\n",
    "    soup = BeautifulSoup(chap, 'html.parser')\n",
    "    text = soup.find_all(text=True)\n",
    "    for t in text:\n",
    "        if t.parent.name not in blacklist:\n",
    "            output += '{} '.format(t)\n",
    "    return output\n"
   ]
  },
  {
   "cell_type": "code",
   "execution_count": 5,
   "metadata": {},
   "outputs": [],
   "source": [
    "def thtml2ttext(thtml):\n",
    "    Output = []\n",
    "    for html in thtml:\n",
    "        text =  chap2text(html)\n",
    "        Output.append(text)\n",
    "    return Output"
   ]
  },
  {
   "cell_type": "code",
   "execution_count": 6,
   "metadata": {},
   "outputs": [],
   "source": [
    "def epub2text(epub_path):\n",
    "    chapters = epub2thtml(epub_path)\n",
    "    ttext = thtml2ttext(chapters)\n",
    "    return ttext"
   ]
  },
  {
   "cell_type": "code",
   "execution_count": 7,
   "metadata": {},
   "outputs": [
    {
     "name": "stderr",
     "output_type": "stream",
     "text": [
      "/opt/homebrew/Caskroom/miniforge/base/envs/nlp/lib/python3.9/site-packages/ebooklib/epub.py:1395: UserWarning: In the future version we will turn default option ignore_ncx to True.\n",
      "  warnings.warn('In the future version we will turn default option ignore_ncx to True.')\n"
     ]
    }
   ],
   "source": [
    "out = epub2text('books/Great Expectations by Charles Dickens.epub')"
   ]
  },
  {
   "cell_type": "code",
   "execution_count": 8,
   "metadata": {},
   "outputs": [
    {
     "name": "stdout",
     "output_type": "stream",
     "text": [
      "1 9781   Chapter I.  M y cost 0.15$\n",
      "2 18482   Chapter II.  M  cost 0.28$\n",
      "3 10314   Chapter III.  I cost 0.15$\n",
      "4 18778   Chapter IV.  I  cost 0.28$\n",
      "5 22642   Chapter V.  T h cost 0.34$\n",
      "7 21763   Chapter VII.  A cost 0.33$\n",
      "8 25511   Chapter VIII.   cost 0.38$\n",
      "9 14501   Chapter IX.  W  cost 0.22$\n",
      "10 13761   Chapter X.  T h cost 0.21$\n",
      "11 29087   Chapter XI.  A  cost 0.44$\n",
      "12 12226   Chapter XII.  M cost 0.18$\n",
      "13 15778   Chapter XIII.   cost 0.24$\n",
      "15 23356   Chapter XV.  A  cost 0.35$\n",
      "16 10613   Chapter XVI.  W cost 0.16$\n",
      "17 17971   Chapter XVII.   cost 0.27$\n",
      "18 27634   Chapter XVIII.  cost 0.41$\n",
      "19 30946   Chapter XIX.  M cost 0.46$\n",
      "20 17249   Chapter XX.  T  cost 0.26$\n",
      "21 9642   Chapter XXI.  C cost 0.14$\n",
      "22 27325   Chapter XXII.   cost 0.41$\n",
      "23 17849   Chapter XXIII.  cost 0.27$\n",
      "24 12774   Chapter XXIV.   cost 0.19$\n",
      "25 16055   Chapter XXV.  B cost 0.24$\n",
      "26 15518   Chapter XXVI.   cost 0.23$\n",
      "27 16507   Chapter XXVII.  cost 0.25$\n",
      "28 13337   Chapter XXVIII.  cost 0.20$\n",
      "29 26536   Chapter XXIX.   cost 0.40$\n",
      "30 18510   Chapter XXX.  A cost 0.28$\n",
      "31 12041   Chapter XXXI.   cost 0.18$\n",
      "32 12266   Chapter XXXII.  cost 0.18$\n",
      "33 14723   Chapter XXXIII.  cost 0.22$\n",
      "34 13016   Chapter XXXIV.  cost 0.20$\n",
      "35 16526   Chapter XXXV.   cost 0.25$\n",
      "36 14025   Chapter XXXVI.  cost 0.21$\n",
      "37 15628   Chapter XXXVII.  cost 0.23$\n",
      "38 26815   Chapter XXXVIII. cost 0.40$\n",
      "39 25526   Chapter XXXIX.  cost 0.38$\n",
      "40 28050   Chapter XL.  I  cost 0.42$\n",
      "41 11689   Chapter XLI.  I cost 0.18$\n",
      "42 15522   Chapter XLII.   cost 0.23$\n",
      "43 10680   Chapter XLIII.  cost 0.16$\n",
      "44 15507   Chapter XLIV.   cost 0.23$\n",
      "45 16139   Chapter XLV.  T cost 0.24$\n",
      "46 16408   Chapter XLVI.   cost 0.25$\n",
      "47 13871   Chapter XLVII.  cost 0.21$\n",
      "48 14813   Chapter XLVIII.  cost 0.22$\n",
      "49 19074   Chapter XLIX.   cost 0.29$\n",
      "50 8198   Chapter L.  M y cost 0.12$\n",
      "51 16477   Chapter LI.  W  cost 0.25$\n",
      "52 11148   Chapter LII.  F cost 0.17$\n",
      "53 27547   Chapter LIII.   cost 0.41$\n",
      "54 30476   Chapter LIV.  I cost 0.46$\n",
      "55 15627   Chapter LV.  H  cost 0.23$\n",
      "56 11765   Chapter LVI.  H cost 0.18$\n",
      "57 25752   Chapter LVII.   cost 0.39$\n",
      "58 16443   Chapter LVIII.  cost 0.25$\n",
      "59 7829   Chapter LIX.  F cost 0.12$\n",
      "60 18535    *** END OF THE cost 0.28$\n",
      "total cost: 15.25$\n"
     ]
    }
   ],
   "source": [
    "total_cost = 0\n",
    "for i,c in enumerate(out):\n",
    "    # Only transcribe chapters with more than 5000 characters\n",
    "    if len(c) > 5000:\n",
    "        # price is 0.015$ per 1000 characters\n",
    "        print(i, len(c), c[:20].replace('\\n', ''), f'cost {len(c)/1000*0.015:.2f}$')\n",
    "        total_cost += len(c)/1000*0.015\n",
    "print(f'total cost: {total_cost:.2f}$')"
   ]
  },
  {
   "cell_type": "code",
   "execution_count": null,
   "metadata": {},
   "outputs": [],
   "source": [
    "from openai import OpenAI\n",
    "\n",
    "import os\n",
    "os.environ[\"OPENAI_API_KEY\"] = \"<your key>\"\n",
    "client = OpenAI()\n",
    "\n",
    "index = 0\n",
    "for i,c in enumerate(out):\n",
    "    # Only transcribe chapters with more than 5000 characters\n",
    "    if len(c) > 5000:\n",
    "      chunk = ''\n",
    "      chunks = []\n",
    "      for t in c.split('\\n'):\n",
    "          if len(chunk) + len(t) < 4000:\n",
    "              chunk += t + '\\n'\n",
    "          else:\n",
    "              chunks.append(chunk)\n",
    "              chunk = t + '\\n'\n",
    "      for i,payload in enumerate(chunks):\n",
    "          response = client.audio.speech.create(\n",
    "              model=\"tts-1\",\n",
    "              voice=\"onyx\",\n",
    "              input=payload,\n",
    "            )  \n",
    "          response.stream_to_file(f'{index:03} {c[:20]}_{i}.mp3')\n",
    "          index += 1"
   ]
  }
 ],
 "metadata": {
  "kernelspec": {
   "display_name": "nlp",
   "language": "python",
   "name": "python3"
  },
  "language_info": {
   "codemirror_mode": {
    "name": "ipython",
    "version": 3
   },
   "file_extension": ".py",
   "mimetype": "text/x-python",
   "name": "python",
   "nbconvert_exporter": "python",
   "pygments_lexer": "ipython3",
   "version": "3.9.15"
  }
 },
 "nbformat": 4,
 "nbformat_minor": 2
}
